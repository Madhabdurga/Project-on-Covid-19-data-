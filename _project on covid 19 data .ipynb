{
 "cells": [
  {
   "cell_type": "code",
   "execution_count": null,
   "id": "4adf0009",
   "metadata": {},
   "outputs": [],
   "source": [
    "rm(list=ls()) # removes all variables stored previously\n",
    "data <- read.csv(\"covid_19_data.csv\")\n",
    "head(data) "
   ]
  },
  {
   "cell_type": "code",
   "execution_count": null,
   "id": "07a7bb5c",
   "metadata": {},
   "outputs": [],
   "source": [
    "# cleaned up death column\n",
    "data$death_dummy <- as.integer(data$death != 0)\n",
    "# death rate\n",
    "sum(data$death_dummy) / nrow(data)"
   ]
  },
  {
   "cell_type": "code",
   "execution_count": null,
   "id": "78efbdad",
   "metadata": {},
   "outputs": [],
   "source": [
    "# AGE\n",
    "# claim: people who die are older\n",
    "dead = subset(data, death_dummy == 1)\n",
    "alive = subset(data, death_dummy == 0)\n",
    "mean(dead$age, na.rm = TRUE)\n",
    "mean(alive$age, na.rm = TRUE)\n",
    "t.test(alive$age, dead$age, alternative=\"two.sided\", conf.level = 0.99)\n",
    "# normally, if p-value < 0.05, we reject null hypothesis\n",
    "# here, p-value ~ 0, so we reject the null hypothesis and \n",
    "# conclude that this is statistically significant"
   ]
  },
  {
   "cell_type": "code",
   "execution_count": null,
   "id": "d670d79f",
   "metadata": {},
   "outputs": [],
   "source": [
    "# GENDER\n",
    "# claim: gender has no effect\n",
    "men = subset(data, gender == \"male\")\n",
    "women = subset(data, gender == \"female\")\n",
    "mean(men$death_dummy, na.rm = TRUE) #8.5%!\n",
    "mean(women$death_dummy, na.rm = TRUE) #3.7%\n",
    "# is this statistically significant?\n",
    "t.test(men$death_dummy, women$death_dummy, alternative=\"two.sided\", conf.level = 0.99)\n",
    "# 99% confidence: men have from 0.8% to 8.8% higher chance\n",
    "# of dying.\n",
    "# p-value = 0.002 < 0.05, so this is statistically\n",
    "# significant"
   ]
  }
 ],
 "metadata": {
  "kernelspec": {
   "display_name": "R",
   "language": "R",
   "name": "ir"
  },
  "language_info": {
   "codemirror_mode": "r",
   "file_extension": ".r",
   "mimetype": "text/x-r-source",
   "name": "R",
   "pygments_lexer": "r",
   "version": "4.2.2"
  }
 },
 "nbformat": 4,
 "nbformat_minor": 5
}
